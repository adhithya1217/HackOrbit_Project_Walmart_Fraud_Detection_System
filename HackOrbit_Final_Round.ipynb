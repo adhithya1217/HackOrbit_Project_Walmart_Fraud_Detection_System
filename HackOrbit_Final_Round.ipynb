import pandas as pd
import matplotlib.pyplot as plt
import seaborn as sns
from sklearn.ensemble import RandomForestClassifier
from sklearn.model_selection import train_test_split
from sklearn.metrics import classification_report, confusion_matrix
from imblearn.over_sampling import SMOTE
import joblib

from google.colab import files
uploaded = files.upload()


